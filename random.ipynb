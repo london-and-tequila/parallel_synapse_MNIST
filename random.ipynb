{
 "cells": [
  {
   "cell_type": "code",
   "execution_count": 1,
   "metadata": {},
   "outputs": [],
   "source": [
    "def rev(num):\n",
    "    mod = []\n",
    "    while num > 9:\n",
    "        mod.append(num%10)\n",
    "        num = num//10\n",
    "    mod.append(num)\n",
    "    # print(mod)\n",
    "    ans = 0\n",
    "    mod = mod[::-1]\n",
    "    for i, m in enumerate(mod):\n",
    "        ans += m * 10**i\n",
    "    return ans"
   ]
  },
  {
   "cell_type": "code",
   "execution_count": 2,
   "metadata": {},
   "outputs": [
    {
     "data": {
      "text/plain": [
       "{0: 0, 1: 1, 2: 4, 3: 9, 4: 16, 5: 25, 6: 36, 7: 49, 8: 64, 9: 81}"
      ]
     },
     "execution_count": 2,
     "metadata": {},
     "output_type": "execute_result"
    }
   ],
   "source": [
    "{x: x**2 for x in range(10)}"
   ]
  },
  {
   "cell_type": "code",
   "execution_count": 3,
   "metadata": {},
   "outputs": [
    {
     "name": "stdout",
     "output_type": "stream",
     "text": [
      "[2, 10, 20, 15, 14, 21]\n"
     ]
    }
   ],
   "source": [
    "import heapq\n",
    "\n",
    "# Initial list\n",
    "data = [20, 14, 2, 15, 10, 21]\n",
    "\n",
    "# Transform the list into a heap\n",
    "heapq.heapify(data)\n",
    "\n",
    "# Now data is a heap\n",
    "print(data)  # Outp"
   ]
  },
  {
   "cell_type": "code",
   "execution_count": 6,
   "metadata": {},
   "outputs": [],
   "source": [
    "def heappush(a, num):\n",
    "    # min heap\n",
    "    # assume array is already heapified, put num to the its lower-right\n",
    "    a.append(num)\n",
    "    # bubble num to its correct place\n",
    "    loc_n  = len(a) - 1\n",
    "    loc_p = (loc_n - 1)// 2 \n",
    "    while loc_p >= 0 and a[loc_p] > a[loc_n]:\n",
    "        tmp = a[loc_p]\n",
    "        a[loc_p] = a[loc_n]\n",
    "        a[loc_n] = tmp \n",
    "        loc_n = loc_p // 1\n",
    "        \n",
    "        loc_p = (loc_n - 1)// 2 \n",
    "    return a \n",
    "\n",
    "def heappop(a):\n",
    "    \n",
    "    val = a[0]\n",
    "    a[0] = a[-1]\n",
    "    del a[-1]\n",
    "    \n",
    "    # bubble a[0] to its correct place\n",
    "    \n",
    "    loc_n = 0\n",
    "    loc_cl = (loc_n + 1) * 2 - 1\n",
    "    loc_cr = (loc_n + 1) * 2\n",
    "    \n",
    "    while (a[loc_n] > a[loc_cl] or a[loc_n] > a[loc_cr]) and loc_cr < len(a):\n",
    "        if a[loc_cl] < a[loc_cr]:\n",
    "            tmp = a[loc_n]\n",
    "            a[loc_n] = a[loc_cl]\n",
    "            a[loc_cl] = tmp\n",
    "            loc_n = loc_cl \n",
    "            loc_cl = (loc_n + 1) * 2 - 1\n",
    "            loc_cr = (loc_n + 1) * 2\n",
    "        elif a[loc_cl] > a[loc_cr]:\n",
    "            tmp = a[loc_n]\n",
    "            a[loc_n] = a[loc_cr]\n",
    "            a[loc_cr] = tmp\n",
    "            loc_n = loc_cr\n",
    "            loc_cl = (loc_n + 1) * 2 - 1\n",
    "            loc_cr = (loc_n + 1) * 2\n",
    "    return val, a\n",
    "\n",
    "def heapify(a):\n",
    "    heap_a = []\n",
    "    for val in a:\n",
    "        heap_a = heappush(heap_a, val)\n",
    "    return heap_a\n",
    "    \n",
    "def visualize_heap(a):\n",
    "    count = 0\n",
    "    out = ''\n",
    "    for i, val in enumerate(a):\n",
    "        out += str(val)+ ' '\n",
    "        if i > 0 and (i + 1 - 2**(count-1)) % 2**count == 0:\n",
    "            count += 1\n",
    "            out += '\\n'\n",
    "        elif i == 0:\n",
    "            count += 1\n",
    "            out += '\\n'\n",
    "        elif i % 2 == 0:\n",
    "            out += ','\n",
    "    print(out)\n",
    "        "
   ]
  },
  {
   "cell_type": "code",
   "execution_count": 7,
   "metadata": {},
   "outputs": [
    {
     "name": "stdout",
     "output_type": "stream",
     "text": [
      "[7, 4, 18, 7, 4, 18, 11, 4, 1, 15, 4, 1, 18, 10, 7, 2, 18, 14, 4, 16]\n",
      "[1, 2, 1, 4, 4, 11, 7, 4, 4, 15, 7, 18, 18, 18, 10, 7, 18, 14, 4, 16]\n",
      "1 \n",
      "2 1 \n",
      "4 4 ,11 \n",
      "7 ,4 4 ,15 7 ,18 \n",
      "18 ,18 10 ,7 18 ,14 4 ,16 \n"
     ]
    }
   ],
   "source": [
    "# heapify array\n",
    "import numpy as np\n",
    "a = [np.random.randint(20) for i in range(20)]\n",
    "print(a)\n",
    "a = heapify(a)\n",
    "print(a)\n",
    "visualize_heap(a)"
   ]
  },
  {
   "cell_type": "code",
   "execution_count": null,
   "metadata": {},
   "outputs": [],
   "source": [
    "# serialize a binary tree and deserialize it\n",
    "\n"
   ]
  },
  {
   "cell_type": "code",
   "execution_count": 1,
   "metadata": {},
   "outputs": [
    {
     "ename": "TypeError",
     "evalue": "first argument must be callable or None",
     "output_type": "error",
     "traceback": [
      "\u001b[0;31m---------------------------------------------------------------------------\u001b[0m",
      "\u001b[0;31mTypeError\u001b[0m                                 Traceback (most recent call last)",
      "\u001b[1;32m/Users/yurusong/work/parallel_synapse_MNIST/random.ipynb Cell 7\u001b[0m line \u001b[0;36m3\n\u001b[1;32m      <a href='vscode-notebook-cell:/Users/yurusong/work/parallel_synapse_MNIST/random.ipynb#W6sZmlsZQ%3D%3D?line=0'>1</a>\u001b[0m \u001b[39mfrom\u001b[39;00m \u001b[39mcollections\u001b[39;00m \u001b[39mimport\u001b[39;00m defaultdict\n\u001b[0;32m----> <a href='vscode-notebook-cell:/Users/yurusong/work/parallel_synapse_MNIST/random.ipynb#W6sZmlsZQ%3D%3D?line=2'>3</a>\u001b[0m a \u001b[39m=\u001b[39m defaultdict([\u001b[39m0\u001b[39;49m,\u001b[39m0\u001b[39;49m,\u001b[39m1\u001b[39;49m])\n",
      "\u001b[0;31mTypeError\u001b[0m: first argument must be callable or None"
     ]
    }
   ],
   "source": [
    "from collections import defaultdict\n",
    "\n",
    "a = defaultdict([0,0,1])"
   ]
  },
  {
   "cell_type": "code",
   "execution_count": 2,
   "metadata": {},
   "outputs": [],
   "source": [
    "a = [0, 1, 2]"
   ]
  },
  {
   "cell_type": "code",
   "execution_count": 3,
   "metadata": {},
   "outputs": [
    {
     "data": {
      "text/plain": [
       "[0]"
      ]
     },
     "execution_count": 3,
     "metadata": {},
     "output_type": "execute_result"
    }
   ],
   "source": [
    "a[0:1]"
   ]
  },
  {
   "cell_type": "code",
   "execution_count": null,
   "metadata": {},
   "outputs": [],
   "source": []
  }
 ],
 "metadata": {
  "kernelspec": {
   "display_name": "Python 3",
   "language": "python",
   "name": "python3"
  },
  "language_info": {
   "codemirror_mode": {
    "name": "ipython",
    "version": 3
   },
   "file_extension": ".py",
   "mimetype": "text/x-python",
   "name": "python",
   "nbconvert_exporter": "python",
   "pygments_lexer": "ipython3",
   "version": "3.11.7"
  },
  "orig_nbformat": 4
 },
 "nbformat": 4,
 "nbformat_minor": 2
}
